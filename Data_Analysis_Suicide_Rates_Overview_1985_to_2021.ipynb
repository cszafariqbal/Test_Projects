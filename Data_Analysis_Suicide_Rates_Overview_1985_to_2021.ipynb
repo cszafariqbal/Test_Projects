{
  "cells": [
    {
      "cell_type": "markdown",
      "metadata": {
        "id": "view-in-github",
        "colab_type": "text"
      },
      "source": [
        "<a href=\"https://colab.research.google.com/github/cszafariqbal/cszafar/blob/master/Data_Analysis_Suicide_Rates_Overview_1985_to_2021.ipynb\" target=\"_parent\"><img src=\"https://colab.research.google.com/assets/colab-badge.svg\" alt=\"Open In Colab\"/></a>"
      ]
    },
    {
      "cell_type": "markdown",
      "metadata": {
        "id": "F1AIAcc7fFYD"
      },
      "source": [
        "# Suicide Rates Overview (1985 to 2021)\n",
        "\n",
        "This dataset is an addition to the original dataset. This compiled dataset was pulled from four other datasets linked by time and place and was built to find signals correlated to increased suicide rates among different cohorts globally, across the socio-economic spectrum."
      ]
    },
    {
      "cell_type": "markdown",
      "metadata": {
        "id": "NiXAiKoufFYH"
      },
      "source": [
        "### How to run the code\n",
        "\n",
        "This is an executable [*Jupyter notebook*](https://jupyter.org) hosted on [Jovian.ml](https://www.jovian.ml), a platform for sharing data science projects. You can run and experiment with the code in a couple of ways: *using free online resources* (recommended) or *on your own computer*.\n",
        "\n",
        "#### Option 1: Running using free online resources (1-click, recommended)\n",
        "\n",
        "The easiest way to start executing this notebook is to click the \"Run\" button at the top of this page, and select \"Run on Binder\". This will run the notebook on [mybinder.org](https://mybinder.org), a free online service for running Jupyter notebooks. You can also select \"Run on Colab\" or \"Run on Kaggle\".\n",
        "\n",
        "\n",
        "#### Option 2: Running on your computer locally\n",
        "\n",
        "1. Install Conda by [following these instructions](https://conda.io/projects/conda/en/latest/user-guide/install/index.html). Add Conda binaries to your system `PATH`, so you can use the `conda` command on your terminal.\n",
        "\n",
        "2. Create a Conda environment and install the required libraries by running these commands on the terminal:\n",
        "\n",
        "```\n",
        "conda create -n zerotopandas -y python=3.8\n",
        "conda activate zerotopandas\n",
        "pip install jovian jupyter numpy pandas matplotlib seaborn opendatasets --upgrade\n",
        "```\n",
        "\n",
        "3. Press the \"Clone\" button above to copy the command for downloading the notebook, and run it on the terminal. This will create a new directory and download the notebook. The command will look something like this:\n",
        "\n",
        "```\n",
        "jovian clone notebook-owner/notebook-id\n",
        "```\n",
        "\n",
        "\n",
        "\n",
        "4. Enter the newly created directory using `cd directory-name` and start the Jupyter notebook.\n",
        "\n",
        "```\n",
        "jupyter notebook\n",
        "```\n",
        "\n",
        "You can now access Jupyter's web interface by clicking the link that shows up on the terminal or by visiting http://localhost:8888 on your browser. Click on the notebook file (it has a `.ipynb` extension) to open it.\n"
      ]
    },
    {
      "cell_type": "markdown",
      "metadata": {
        "id": "0xZqEgqcfFYH"
      },
      "source": [
        "## Downloading the Dataset\n",
        "\n",
        "We shall be downloading a dataset from Kaggle to carry out an analysis on, we dowland the dataet by using  the opendatasets liabrary"
      ]
    },
    {
      "cell_type": "code",
      "execution_count": null,
      "metadata": {
        "id": "HZgtpTJOfFYI"
      },
      "outputs": [],
      "source": [
        "!pip install jovian opendatasets --upgrade --quiet"
      ]
    },
    {
      "cell_type": "markdown",
      "metadata": {
        "id": "jfDopsjnfFYK"
      },
      "source": [
        "Let's begin by downloading the data, and listing the files within the dataset."
      ]
    },
    {
      "cell_type": "code",
      "execution_count": null,
      "metadata": {
        "id": "NIHo9tbqfFYL"
      },
      "outputs": [],
      "source": [
        "# Change this\n",
        "dataset_url = 'https://www.kaggle.com/datasets/omkargowda/suicide-rates-overview-1985-to-2021'"
      ]
    },
    {
      "cell_type": "code",
      "execution_count": null,
      "metadata": {
        "id": "ME82kYyefFYM",
        "outputId": "a0d8adf1-328e-47ba-fbab-06bb7b8941a9"
      },
      "outputs": [
        {
          "name": "stdout",
          "output_type": "stream",
          "text": [
            "Skipping, found downloaded files in \"./suicide-rates-overview-1985-to-2021\" (use force=True to force download)\n"
          ]
        }
      ],
      "source": [
        "import opendatasets as od\n",
        "od.download(dataset_url)"
      ]
    },
    {
      "cell_type": "markdown",
      "metadata": {
        "id": "ZAT7c6FAfFYN"
      },
      "source": [
        "The dataset has been downloaded and extracted."
      ]
    },
    {
      "cell_type": "code",
      "execution_count": null,
      "metadata": {
        "id": "FvBkq1oHfFYN"
      },
      "outputs": [],
      "source": [
        "# Change this\n",
        "data_dir = './suicide-rates-overview-1985-to-2021'"
      ]
    },
    {
      "cell_type": "code",
      "execution_count": null,
      "metadata": {
        "id": "6ZVR8h0AfFYO",
        "outputId": "3516420e-3c2d-495b-fc3a-a1f5f0214d95"
      },
      "outputs": [
        {
          "data": {
            "text/plain": [
              "['master.csv']"
            ]
          },
          "execution_count": 5,
          "metadata": {},
          "output_type": "execute_result"
        }
      ],
      "source": [
        "import os\n",
        "os.listdir(data_dir)"
      ]
    },
    {
      "cell_type": "markdown",
      "metadata": {
        "id": "oiWQ5EChfFYO"
      },
      "source": [
        "Let us save and upload our work to Jovian before continuing."
      ]
    },
    {
      "cell_type": "code",
      "execution_count": null,
      "metadata": {
        "id": "dlNXRFJ0fFYP"
      },
      "outputs": [],
      "source": [
        "project_name = \"suicide-rates-overview-project\""
      ]
    },
    {
      "cell_type": "code",
      "execution_count": null,
      "metadata": {
        "id": "lF6kTRbjfFYP"
      },
      "outputs": [],
      "source": [
        "!pip install jovian --upgrade -q"
      ]
    },
    {
      "cell_type": "code",
      "execution_count": null,
      "metadata": {
        "id": "PrNZ9mKUfFYP"
      },
      "outputs": [],
      "source": [
        "import jovian"
      ]
    },
    {
      "cell_type": "code",
      "execution_count": null,
      "metadata": {
        "id": "hFgHVeSHfFYP",
        "outputId": "94fa738c-aea5-486d-a733-dd3688d6d50e"
      },
      "outputs": [
        {
          "data": {
            "application/javascript": [
              "window.require && require([\"base/js/namespace\"],function(Jupyter){Jupyter.notebook.save_checkpoint()})"
            ],
            "text/plain": [
              "<IPython.core.display.Javascript object>"
            ]
          },
          "metadata": {},
          "output_type": "display_data"
        },
        {
          "name": "stdout",
          "output_type": "stream",
          "text": [
            "[jovian] Updating notebook \"zeeooma123/suicide-rates-overview-project\" on https://jovian.com\u001b[0m\n",
            "[jovian] Committed successfully! https://jovian.com/zeeooma123/suicide-rates-overview-project\u001b[0m\n"
          ]
        },
        {
          "data": {
            "text/plain": [
              "'https://jovian.com/zeeooma123/suicide-rates-overview-project'"
            ]
          },
          "execution_count": 9,
          "metadata": {},
          "output_type": "execute_result"
        }
      ],
      "source": [
        "jovian.commit(project=project_name)"
      ]
    },
    {
      "cell_type": "markdown",
      "metadata": {
        "id": "-kDngV16fFYQ"
      },
      "source": [
        "## Data Preparation and Cleaning\n",
        "\n",
        "We first need to install the libraries we shall use in the analysis and clean up our data of any missing or outlier values."
      ]
    },
    {
      "cell_type": "code",
      "execution_count": null,
      "metadata": {
        "id": "3kiEe_difFYQ"
      },
      "outputs": [],
      "source": [
        "import pandas as pd"
      ]
    },
    {
      "cell_type": "code",
      "execution_count": null,
      "metadata": {
        "id": "kO_lnBY6fFYQ",
        "outputId": "b00650d9-9d0e-4020-b6b7-0b23c49f2faa"
      },
      "outputs": [
        {
          "data": {
            "text/html": [
              "<div>\n",
              "<style scoped>\n",
              "    .dataframe tbody tr th:only-of-type {\n",
              "        vertical-align: middle;\n",
              "    }\n",
              "\n",
              "    .dataframe tbody tr th {\n",
              "        vertical-align: top;\n",
              "    }\n",
              "\n",
              "    .dataframe thead th {\n",
              "        text-align: right;\n",
              "    }\n",
              "</style>\n",
              "<table border=\"1\" class=\"dataframe\">\n",
              "  <thead>\n",
              "    <tr style=\"text-align: right;\">\n",
              "      <th></th>\n",
              "      <th>country</th>\n",
              "      <th>year</th>\n",
              "      <th>sex</th>\n",
              "      <th>age</th>\n",
              "      <th>suicides_no</th>\n",
              "      <th>population</th>\n",
              "      <th>suicides/100k pop</th>\n",
              "      <th>country-year</th>\n",
              "      <th>HDI for year</th>\n",
              "      <th>gdp_for_year ($)</th>\n",
              "      <th>gdp_per_capita ($)</th>\n",
              "      <th>generation</th>\n",
              "    </tr>\n",
              "  </thead>\n",
              "  <tbody>\n",
              "    <tr>\n",
              "      <th>0</th>\n",
              "      <td>Albania</td>\n",
              "      <td>1987</td>\n",
              "      <td>male</td>\n",
              "      <td>15-24 years</td>\n",
              "      <td>21.0</td>\n",
              "      <td>312900</td>\n",
              "      <td>6.710000</td>\n",
              "      <td>Albania1987</td>\n",
              "      <td>NaN</td>\n",
              "      <td>2,15,66,24,900</td>\n",
              "      <td>796.000000</td>\n",
              "      <td>Generation X</td>\n",
              "    </tr>\n",
              "    <tr>\n",
              "      <th>1</th>\n",
              "      <td>Albania</td>\n",
              "      <td>1987</td>\n",
              "      <td>male</td>\n",
              "      <td>35-54 years</td>\n",
              "      <td>16.0</td>\n",
              "      <td>308000</td>\n",
              "      <td>5.190000</td>\n",
              "      <td>Albania1987</td>\n",
              "      <td>NaN</td>\n",
              "      <td>2,15,66,24,900</td>\n",
              "      <td>796.000000</td>\n",
              "      <td>Silent</td>\n",
              "    </tr>\n",
              "    <tr>\n",
              "      <th>2</th>\n",
              "      <td>Albania</td>\n",
              "      <td>1987</td>\n",
              "      <td>female</td>\n",
              "      <td>15-24 years</td>\n",
              "      <td>14.0</td>\n",
              "      <td>289700</td>\n",
              "      <td>4.830000</td>\n",
              "      <td>Albania1987</td>\n",
              "      <td>NaN</td>\n",
              "      <td>2,15,66,24,900</td>\n",
              "      <td>796.000000</td>\n",
              "      <td>Generation X</td>\n",
              "    </tr>\n",
              "    <tr>\n",
              "      <th>3</th>\n",
              "      <td>Albania</td>\n",
              "      <td>1987</td>\n",
              "      <td>male</td>\n",
              "      <td>75+ years</td>\n",
              "      <td>1.0</td>\n",
              "      <td>21800</td>\n",
              "      <td>4.590000</td>\n",
              "      <td>Albania1987</td>\n",
              "      <td>NaN</td>\n",
              "      <td>2,15,66,24,900</td>\n",
              "      <td>796.000000</td>\n",
              "      <td>G.I. Generation</td>\n",
              "    </tr>\n",
              "    <tr>\n",
              "      <th>4</th>\n",
              "      <td>Albania</td>\n",
              "      <td>1987</td>\n",
              "      <td>male</td>\n",
              "      <td>25-34 years</td>\n",
              "      <td>9.0</td>\n",
              "      <td>274300</td>\n",
              "      <td>3.280000</td>\n",
              "      <td>Albania1987</td>\n",
              "      <td>NaN</td>\n",
              "      <td>2,15,66,24,900</td>\n",
              "      <td>796.000000</td>\n",
              "      <td>Boomers</td>\n",
              "    </tr>\n",
              "    <tr>\n",
              "      <th>...</th>\n",
              "      <td>...</td>\n",
              "      <td>...</td>\n",
              "      <td>...</td>\n",
              "      <td>...</td>\n",
              "      <td>...</td>\n",
              "      <td>...</td>\n",
              "      <td>...</td>\n",
              "      <td>...</td>\n",
              "      <td>...</td>\n",
              "      <td>...</td>\n",
              "      <td>...</td>\n",
              "      <td>...</td>\n",
              "    </tr>\n",
              "    <tr>\n",
              "      <th>31751</th>\n",
              "      <td>Ukraine</td>\n",
              "      <td>2017</td>\n",
              "      <td>female</td>\n",
              "      <td>75+ years</td>\n",
              "      <td>256.0</td>\n",
              "      <td>44831135</td>\n",
              "      <td>0.571032</td>\n",
              "      <td>Ukraine2017</td>\n",
              "      <td>0.785458</td>\n",
              "      <td>1.12E+11</td>\n",
              "      <td>2638.326055</td>\n",
              "      <td>G.I. Generation</td>\n",
              "    </tr>\n",
              "    <tr>\n",
              "      <th>31752</th>\n",
              "      <td>United Kingdom</td>\n",
              "      <td>2017</td>\n",
              "      <td>female</td>\n",
              "      <td>75+ years</td>\n",
              "      <td>104.0</td>\n",
              "      <td>66058859</td>\n",
              "      <td>0.157435</td>\n",
              "      <td>United Kingdom2017</td>\n",
              "      <td>0.914735</td>\n",
              "      <td>2.70E+12</td>\n",
              "      <td>40857.755580</td>\n",
              "      <td>G.I. Generation</td>\n",
              "    </tr>\n",
              "    <tr>\n",
              "      <th>31753</th>\n",
              "      <td>United States of America</td>\n",
              "      <td>2017</td>\n",
              "      <td>female</td>\n",
              "      <td>75+ years</td>\n",
              "      <td>501.0</td>\n",
              "      <td>325122128</td>\n",
              "      <td>0.154096</td>\n",
              "      <td>United States of America2017</td>\n",
              "      <td>0.918620</td>\n",
              "      <td>1.95E+13</td>\n",
              "      <td>60109.655730</td>\n",
              "      <td>G.I. Generation</td>\n",
              "    </tr>\n",
              "    <tr>\n",
              "      <th>31754</th>\n",
              "      <td>Uruguay</td>\n",
              "      <td>2017</td>\n",
              "      <td>female</td>\n",
              "      <td>75+ years</td>\n",
              "      <td>14.0</td>\n",
              "      <td>3422200</td>\n",
              "      <td>0.409094</td>\n",
              "      <td>Uruguay2017</td>\n",
              "      <td>0.816745</td>\n",
              "      <td>64233966861</td>\n",
              "      <td>18690.893840</td>\n",
              "      <td>G.I. Generation</td>\n",
              "    </tr>\n",
              "    <tr>\n",
              "      <th>31755</th>\n",
              "      <td>Uzbekistan</td>\n",
              "      <td>2017</td>\n",
              "      <td>female</td>\n",
              "      <td>75+ years</td>\n",
              "      <td>3.0</td>\n",
              "      <td>32388600</td>\n",
              "      <td>0.009263</td>\n",
              "      <td>Uzbekistan2017</td>\n",
              "      <td>0.691258</td>\n",
              "      <td>62081323299</td>\n",
              "      <td>1916.764642</td>\n",
              "      <td>G.I. Generation</td>\n",
              "    </tr>\n",
              "  </tbody>\n",
              "</table>\n",
              "<p>31756 rows × 12 columns</p>\n",
              "</div>"
            ],
            "text/plain": [
              "                        country  year     sex          age  suicides_no  \\\n",
              "0                       Albania  1987    male  15-24 years         21.0   \n",
              "1                       Albania  1987    male  35-54 years         16.0   \n",
              "2                       Albania  1987  female  15-24 years         14.0   \n",
              "3                       Albania  1987    male    75+ years          1.0   \n",
              "4                       Albania  1987    male  25-34 years          9.0   \n",
              "...                         ...   ...     ...          ...          ...   \n",
              "31751                   Ukraine  2017  female    75+ years        256.0   \n",
              "31752            United Kingdom  2017  female    75+ years        104.0   \n",
              "31753  United States of America  2017  female    75+ years        501.0   \n",
              "31754                   Uruguay  2017  female    75+ years         14.0   \n",
              "31755                Uzbekistan  2017  female    75+ years          3.0   \n",
              "\n",
              "       population  suicides/100k pop                  country-year  \\\n",
              "0          312900           6.710000                   Albania1987   \n",
              "1          308000           5.190000                   Albania1987   \n",
              "2          289700           4.830000                   Albania1987   \n",
              "3           21800           4.590000                   Albania1987   \n",
              "4          274300           3.280000                   Albania1987   \n",
              "...           ...                ...                           ...   \n",
              "31751    44831135           0.571032                   Ukraine2017   \n",
              "31752    66058859           0.157435            United Kingdom2017   \n",
              "31753   325122128           0.154096  United States of America2017   \n",
              "31754     3422200           0.409094                   Uruguay2017   \n",
              "31755    32388600           0.009263                Uzbekistan2017   \n",
              "\n",
              "       HDI for year  gdp_for_year ($)   gdp_per_capita ($)       generation  \n",
              "0               NaN     2,15,66,24,900          796.000000     Generation X  \n",
              "1               NaN     2,15,66,24,900          796.000000           Silent  \n",
              "2               NaN     2,15,66,24,900          796.000000     Generation X  \n",
              "3               NaN     2,15,66,24,900          796.000000  G.I. Generation  \n",
              "4               NaN     2,15,66,24,900          796.000000          Boomers  \n",
              "...             ...                ...                 ...              ...  \n",
              "31751      0.785458           1.12E+11         2638.326055  G.I. Generation  \n",
              "31752      0.914735           2.70E+12        40857.755580  G.I. Generation  \n",
              "31753      0.918620           1.95E+13        60109.655730  G.I. Generation  \n",
              "31754      0.816745        64233966861        18690.893840  G.I. Generation  \n",
              "31755      0.691258        62081323299         1916.764642  G.I. Generation  \n",
              "\n",
              "[31756 rows x 12 columns]"
            ]
          },
          "execution_count": 11,
          "metadata": {},
          "output_type": "execute_result"
        }
      ],
      "source": [
        "suicide_raw_df = pd.read_csv('./suicide-rates-overview-1985-to-2021/master.csv')\n",
        "suicide_raw_df"
      ]
    },
    {
      "cell_type": "code",
      "execution_count": null,
      "metadata": {
        "id": "3CgJk6SrfFYQ",
        "outputId": "beb63f2c-6938-49e7-b667-d07f9334f2db"
      },
      "outputs": [
        {
          "data": {
            "text/plain": [
              "Index(['country', 'year', 'sex', 'age', 'suicides_no', 'population',\n",
              "       'suicides/100k pop', 'country-year', 'HDI for year',\n",
              "       ' gdp_for_year ($) ', 'gdp_per_capita ($)', 'generation'],\n",
              "      dtype='object')"
            ]
          },
          "execution_count": 12,
          "metadata": {},
          "output_type": "execute_result"
        }
      ],
      "source": [
        "suicide_raw_df.columns"
      ]
    },
    {
      "cell_type": "code",
      "execution_count": null,
      "metadata": {
        "id": "-8hgdz--fFYR"
      },
      "outputs": [],
      "source": [
        "selected_columns = ['country', 'year', 'sex', 'age', 'suicides_no', 'population',\n",
        "       'suicides/100k pop', 'country-year', 'HDI for year',\n",
        "       ' gdp_for_year ($) ', 'gdp_per_capita ($)', 'generation']"
      ]
    },
    {
      "cell_type": "code",
      "execution_count": null,
      "metadata": {
        "id": "S7rHgpxifFYR",
        "outputId": "b8762256-22f8-417e-e9b1-db1f33169faf"
      },
      "outputs": [
        {
          "name": "stdout",
          "output_type": "stream",
          "text": [
            "<class 'pandas.core.frame.DataFrame'>\n",
            "RangeIndex: 31756 entries, 0 to 31755\n",
            "Data columns (total 12 columns):\n",
            " #   Column              Non-Null Count  Dtype  \n",
            "---  ------              --------------  -----  \n",
            " 0   country             31756 non-null  object \n",
            " 1   year                31756 non-null  int64  \n",
            " 2   sex                 31756 non-null  object \n",
            " 3   age                 31756 non-null  object \n",
            " 4   suicides_no         30556 non-null  float64\n",
            " 5   population          31756 non-null  int64  \n",
            " 6   suicides/100k pop   31756 non-null  float64\n",
            " 7   country-year        31756 non-null  object \n",
            " 8   HDI for year        12300 non-null  float64\n",
            " 9    gdp_for_year ($)   31756 non-null  object \n",
            " 10  gdp_per_capita ($)  31756 non-null  float64\n",
            " 11  generation          31756 non-null  object \n",
            "dtypes: float64(4), int64(2), object(6)\n",
            "memory usage: 2.9+ MB\n"
          ]
        }
      ],
      "source": [
        "suicide_raw_df.info()"
      ]
    },
    {
      "cell_type": "code",
      "execution_count": null,
      "metadata": {
        "id": "EbuJ-7CifFYR",
        "outputId": "1e82a82b-9e59-43be-84bf-9ce48b873922"
      },
      "outputs": [
        {
          "data": {
            "text/plain": [
              "(31756, 12)"
            ]
          },
          "execution_count": 15,
          "metadata": {},
          "output_type": "execute_result"
        }
      ],
      "source": [
        "suicide_raw_df.shape"
      ]
    },
    {
      "cell_type": "code",
      "execution_count": null,
      "metadata": {
        "id": "JD6zMzSZfFYR"
      },
      "outputs": [],
      "source": [
        "suicide_raw_df.drop(suicide_raw_df[suicide_raw_df.suicides_no.isna()].index, inplace=True)"
      ]
    },
    {
      "cell_type": "code",
      "execution_count": null,
      "metadata": {
        "id": "tdX_wvf6fFYS"
      },
      "outputs": [],
      "source": [
        "suicide_raw_df = suicide_raw_df.drop_duplicates()"
      ]
    },
    {
      "cell_type": "code",
      "execution_count": null,
      "metadata": {
        "id": "aq9SOJQ_fFYS",
        "outputId": "06b45981-c898-47d3-8e58-532ff03e78d2"
      },
      "outputs": [
        {
          "data": {
            "text/plain": [
              "(30556, 12)"
            ]
          },
          "execution_count": 18,
          "metadata": {},
          "output_type": "execute_result"
        }
      ],
      "source": [
        "suicide_raw_df.shape"
      ]
    },
    {
      "cell_type": "code",
      "execution_count": null,
      "metadata": {
        "id": "A0Sjo6P1fFYS",
        "outputId": "a0ea468b-bc01-43a9-eeb6-5b4970c72a0c"
      },
      "outputs": [
        {
          "data": {
            "text/html": [
              "<div>\n",
              "<style scoped>\n",
              "    .dataframe tbody tr th:only-of-type {\n",
              "        vertical-align: middle;\n",
              "    }\n",
              "\n",
              "    .dataframe tbody tr th {\n",
              "        vertical-align: top;\n",
              "    }\n",
              "\n",
              "    .dataframe thead th {\n",
              "        text-align: right;\n",
              "    }\n",
              "</style>\n",
              "<table border=\"1\" class=\"dataframe\">\n",
              "  <thead>\n",
              "    <tr style=\"text-align: right;\">\n",
              "      <th></th>\n",
              "      <th>year</th>\n",
              "      <th>suicides_no</th>\n",
              "      <th>population</th>\n",
              "      <th>suicides/100k pop</th>\n",
              "      <th>HDI for year</th>\n",
              "      <th>gdp_per_capita ($)</th>\n",
              "    </tr>\n",
              "  </thead>\n",
              "  <tbody>\n",
              "    <tr>\n",
              "      <th>count</th>\n",
              "      <td>30556.000000</td>\n",
              "      <td>30556.000000</td>\n",
              "      <td>3.055600e+04</td>\n",
              "      <td>30556.000000</td>\n",
              "      <td>11100.000000</td>\n",
              "      <td>30556.000000</td>\n",
              "    </tr>\n",
              "    <tr>\n",
              "      <th>mean</th>\n",
              "      <td>2002.766854</td>\n",
              "      <td>237.136242</td>\n",
              "      <td>4.990492e+06</td>\n",
              "      <td>12.176806</td>\n",
              "      <td>0.791232</td>\n",
              "      <td>17447.027437</td>\n",
              "    </tr>\n",
              "    <tr>\n",
              "      <th>std</th>\n",
              "      <td>9.408922</td>\n",
              "      <td>867.956107</td>\n",
              "      <td>3.352492e+07</td>\n",
              "      <td>21.883165</td>\n",
              "      <td>0.095652</td>\n",
              "      <td>19314.352213</td>\n",
              "    </tr>\n",
              "    <tr>\n",
              "      <th>min</th>\n",
              "      <td>1985.000000</td>\n",
              "      <td>0.000000</td>\n",
              "      <td>2.780000e+02</td>\n",
              "      <td>0.000000</td>\n",
              "      <td>0.386358</td>\n",
              "      <td>251.000000</td>\n",
              "    </tr>\n",
              "    <tr>\n",
              "      <th>25%</th>\n",
              "      <td>1995.000000</td>\n",
              "      <td>3.000000</td>\n",
              "      <td>1.198480e+05</td>\n",
              "      <td>0.553214</td>\n",
              "      <td>0.723000</td>\n",
              "      <td>3672.000000</td>\n",
              "    </tr>\n",
              "    <tr>\n",
              "      <th>50%</th>\n",
              "      <td>2003.000000</td>\n",
              "      <td>25.000000</td>\n",
              "      <td>5.148010e+05</td>\n",
              "      <td>4.790000</td>\n",
              "      <td>0.795893</td>\n",
              "      <td>9978.000000</td>\n",
              "    </tr>\n",
              "    <tr>\n",
              "      <th>75%</th>\n",
              "      <td>2010.000000</td>\n",
              "      <td>132.000000</td>\n",
              "      <td>2.401046e+06</td>\n",
              "      <td>15.150000</td>\n",
              "      <td>0.873000</td>\n",
              "      <td>25570.000000</td>\n",
              "    </tr>\n",
              "    <tr>\n",
              "      <th>max</th>\n",
              "      <td>2020.000000</td>\n",
              "      <td>22338.000000</td>\n",
              "      <td>1.396215e+09</td>\n",
              "      <td>515.092734</td>\n",
              "      <td>0.972758</td>\n",
              "      <td>126352.000000</td>\n",
              "    </tr>\n",
              "  </tbody>\n",
              "</table>\n",
              "</div>"
            ],
            "text/plain": [
              "               year   suicides_no    population  suicides/100k pop  \\\n",
              "count  30556.000000  30556.000000  3.055600e+04       30556.000000   \n",
              "mean    2002.766854    237.136242  4.990492e+06          12.176806   \n",
              "std        9.408922    867.956107  3.352492e+07          21.883165   \n",
              "min     1985.000000      0.000000  2.780000e+02           0.000000   \n",
              "25%     1995.000000      3.000000  1.198480e+05           0.553214   \n",
              "50%     2003.000000     25.000000  5.148010e+05           4.790000   \n",
              "75%     2010.000000    132.000000  2.401046e+06          15.150000   \n",
              "max     2020.000000  22338.000000  1.396215e+09         515.092734   \n",
              "\n",
              "       HDI for year  gdp_per_capita ($)  \n",
              "count  11100.000000        30556.000000  \n",
              "mean       0.791232        17447.027437  \n",
              "std        0.095652        19314.352213  \n",
              "min        0.386358          251.000000  \n",
              "25%        0.723000         3672.000000  \n",
              "50%        0.795893         9978.000000  \n",
              "75%        0.873000        25570.000000  \n",
              "max        0.972758       126352.000000  "
            ]
          },
          "execution_count": 19,
          "metadata": {},
          "output_type": "execute_result"
        }
      ],
      "source": [
        "suicide_raw_df.describe()"
      ]
    },
    {
      "cell_type": "code",
      "execution_count": null,
      "metadata": {
        "id": "tmnZZvTNfFYS"
      },
      "outputs": [],
      "source": [
        "import jovian"
      ]
    },
    {
      "cell_type": "code",
      "execution_count": null,
      "metadata": {
        "id": "jBYSJQiJfFYT",
        "outputId": "682eac6e-9d7f-4e58-93f8-f189420ef2e7"
      },
      "outputs": [
        {
          "data": {
            "application/javascript": [
              "window.require && require([\"base/js/namespace\"],function(Jupyter){Jupyter.notebook.save_checkpoint()})"
            ],
            "text/plain": [
              "<IPython.core.display.Javascript object>"
            ]
          },
          "metadata": {},
          "output_type": "display_data"
        },
        {
          "name": "stdout",
          "output_type": "stream",
          "text": [
            "[jovian] Updating notebook \"zeeooma123/suicide-rates-overview-project\" on https://jovian.com\u001b[0m\n",
            "[jovian] Committed successfully! https://jovian.com/zeeooma123/suicide-rates-overview-project\u001b[0m\n"
          ]
        },
        {
          "data": {
            "text/plain": [
              "'https://jovian.com/zeeooma123/suicide-rates-overview-project'"
            ]
          },
          "execution_count": 21,
          "metadata": {},
          "output_type": "execute_result"
        }
      ],
      "source": [
        "jovian.commit()"
      ]
    },
    {
      "cell_type": "markdown",
      "metadata": {
        "id": "qeyxO7qEfFYT"
      },
      "source": [
        "## Exploratory Analysis and Visualization\n",
        "\n",
        "In Exploratory Analysis and Visualizatio process we show the data graphically by using bargraph, lineplot, scatter etc.., now here we diffrent type of graph to be used to represent the dataset.We shall now explore our data to get a high level overview of it's structure and characteristics\n"
      ]
    },
    {
      "cell_type": "markdown",
      "metadata": {
        "id": "40j6r31ofFYT"
      },
      "source": [
        "Let's begin by importing`matplotlib.pyplot` and `seaborn`."
      ]
    },
    {
      "cell_type": "code",
      "execution_count": null,
      "metadata": {
        "id": "uVyY82BKfFYT"
      },
      "outputs": [],
      "source": [
        "import seaborn as sns\n",
        "import matplotlib\n",
        "import matplotlib.pyplot as plt\n",
        "%matplotlib inline\n",
        "\n",
        "sns.set_style('darkgrid')\n",
        "matplotlib.rcParams['font.size'] = 14\n",
        "matplotlib.rcParams['figure.figsize'] = (9, 5)\n",
        "matplotlib.rcParams['figure.facecolor'] = '#00000000'"
      ]
    },
    {
      "cell_type": "markdown",
      "metadata": {
        "id": "3QnSsFnrfFYU"
      },
      "source": [
        "**TODO** - Explore one or more columns by plotting a graph below, and add some explanation about it"
      ]
    },
    {
      "cell_type": "code",
      "execution_count": null,
      "metadata": {
        "id": "b3WDdSY6fFYU",
        "outputId": "7134ea7c-2b5f-4785-d796-b3726bbe13f4"
      },
      "outputs": [
        {
          "data": {
            "text/plain": [
              "Text(0.5, 1.0, 'sex vs suicides_no')"
            ]
          },
          "execution_count": 23,
          "metadata": {},
          "output_type": "execute_result"
        },
        {
          "data": {
            "image/png": "[encoded data removed]",
            "text/plain": [
              "<Figure size 864x432 with 1 Axes>"
            ]
          },
          "metadata": {
            "needs_background": "light"
          },
          "output_type": "display_data"
        }
      ],
      "source": [
        "plt.figure(figsize=(12,6))\n",
        "sns.barplot(x='sex', y='suicides_no', data=suicide_raw_df);\n",
        "plt.xlabel('Sex')\n",
        "plt.ylabel('Suicides_no')\n",
        "plt.title(\"sex vs suicides_no\")"
      ]
    },
    {
      "cell_type": "raw",
      "metadata": {
        "id": "aV6lhWujfFYU"
      },
      "source": [
        "In the above graph male rows nearly about 350 andfemale rows are nearly 100 of the sex column"
      ]
    },
    {
      "cell_type": "code",
      "execution_count": null,
      "metadata": {
        "id": "0xp-Sd1dfFYU",
        "outputId": "05700953-d540-4f34-be28-f8dc61d16902"
      },
      "outputs": [
        {
          "data": {
            "text/plain": [
              "Text(0.5, 1.0, 'Sex vs Population')"
            ]
          },
          "execution_count": 24,
          "metadata": {},
          "output_type": "execute_result"
        },
        {
          "data": {
            "image/png": "[encoded data removed]",
            "text/plain": [
              "<Figure size 864x432 with 1 Axes>"
            ]
          },
          "metadata": {
            "needs_background": "light"
          },
          "output_type": "display_data"
        }
      ],
      "source": [
        "plt.figure(figsize=(12,6))\n",
        "sns.barplot(x='sex', y='population', data=suicide_raw_df);\n",
        "plt.xlabel('Sex')\n",
        "plt.ylabel('Population')\n",
        "plt.title(\"Sex vs Population\")\n"
      ]
    },
    {
      "cell_type": "raw",
      "metadata": {
        "id": "luP47g4nfFYV"
      },
      "source": [
        "In the above graph male have population nearly about 5*1e6 and female has population are 5*1e6  of the sex column"
      ]
    },
    {
      "cell_type": "markdown",
      "metadata": {
        "id": "SImsW2hWfFYV"
      },
      "source": [
        "**TODO** - Explore one or more columns by plotting a graph below, and add some explanation about it"
      ]
    },
    {
      "cell_type": "code",
      "execution_count": null,
      "metadata": {
        "id": "lb7RmejzfFYV",
        "outputId": "0177b93b-6ae1-40ba-b3e0-9ef77c04efc5"
      },
      "outputs": [
        {
          "data": {
            "text/plain": [
              "Text(0.5, 1.0, 'Year vs Population')"
            ]
          },
          "execution_count": 25,
          "metadata": {},
          "output_type": "execute_result"
        },
        {
          "data": {
            "image/png": "[encoded data removed]",
            "text/plain": [
              "<Figure size 864x432 with 1 Axes>"
            ]
          },
          "metadata": {
            "needs_background": "light"
          },
          "output_type": "display_data"
        }
      ],
      "source": [
        "plt.figure(figsize=(12,6))\n",
        "sns.scatterplot(x='year', y='population', data=suicide_raw_df);\n",
        "plt.xlabel('Year')\n",
        "plt.ylabel('Population')\n",
        "plt.title('Year vs Population')\n"
      ]
    },
    {
      "cell_type": "raw",
      "metadata": {
        "id": "batOgoQ1fFYV"
      },
      "source": [
        "the above graph is the scatter graph which is type of graph in which year show the population suicide in each years"
      ]
    },
    {
      "cell_type": "code",
      "execution_count": null,
      "metadata": {
        "id": "NDbxUbgrfFYc",
        "outputId": "604422e7-6e07-4a76-e435-476078aca220"
      },
      "outputs": [
        {
          "data": {
            "text/plain": [
              "Text(0.5, 1.0, 'Population vs Sex')"
            ]
          },
          "execution_count": 26,
          "metadata": {},
          "output_type": "execute_result"
        },
        {
          "data": {
            "image/png": "[encoded data removed]",
            "text/plain": [
              "<Figure size 864x432 with 1 Axes>"
            ]
          },
          "metadata": {
            "needs_background": "light"
          },
          "output_type": "display_data"
        }
      ],
      "source": [
        "plt.figure(figsize=(12,6))\n",
        "sns.scatterplot(x='sex', y='population' , data=suicide_raw_df);\n",
        "plt.xlabel('sex')\n",
        "plt.ylabel('Population')\n",
        "plt.title('Population vs Sex')\n"
      ]
    },
    {
      "cell_type": "raw",
      "metadata": {
        "id": "rPeANtzKfFYc"
      },
      "source": [
        "In this graph show the  sex column in two categories male and female by using scatter plot in which male populationnand female pupulation."
      ]
    },
    {
      "cell_type": "markdown",
      "metadata": {
        "id": "qtcVDfwCfFYd"
      },
      "source": [
        "**TODO** - Explore one or more columns by plotting a graph below, and add some explanation about it"
      ]
    },
    {
      "cell_type": "code",
      "execution_count": null,
      "metadata": {
        "id": "tFhWamZ3fFYd",
        "outputId": "a0eea1bb-861f-4a74-f509-c153c1339144"
      },
      "outputs": [
        {
          "data": {
            "text/plain": [
              "Text(0.5, 1.0, 'line plot of Population')"
            ]
          },
          "execution_count": 27,
          "metadata": {},
          "output_type": "execute_result"
        },
        {
          "data": {
            "image/png": "[encoded data removed]",
            "text/plain": [
              "<Figure size 864x432 with 1 Axes>"
            ]
          },
          "metadata": {
            "needs_background": "light"
          },
          "output_type": "display_data"
        }
      ],
      "source": [
        "df = suicide_raw_df.head(20)\n",
        "plt.figure(figsize=(12,6))\n",
        "plt.plot(df.population)\n",
        "plt.xlabel('count')\n",
        "plt.ylabel('Population')\n",
        "plt.title('line plot of Population')\n",
        "\n"
      ]
    },
    {
      "cell_type": "raw",
      "metadata": {
        "id": "UP40kvhHfFYd"
      },
      "source": [
        "The above graph is the line graph in which show the suicides population in country are show by using line plot"
      ]
    },
    {
      "cell_type": "code",
      "execution_count": null,
      "metadata": {
        "id": "zW3GIe4efFYd",
        "outputId": "fbb6eaa3-0ac8-44d7-d3b3-0f54c673d2dd"
      },
      "outputs": [
        {
          "data": {
            "text/plain": [
              "Text(0.5, 1.0, 'suicides_no count')"
            ]
          },
          "execution_count": 28,
          "metadata": {},
          "output_type": "execute_result"
        },
        {
          "data": {
            "image/png": "[encoded data removed]",
            "text/plain": [
              "<Figure size 864x432 with 1 Axes>"
            ]
          },
          "metadata": {
            "needs_background": "light"
          },
          "output_type": "display_data"
        }
      ],
      "source": [
        "df = suicide_raw_df.head(20)\n",
        "plt.figure(figsize=(12,6))\n",
        "plt.plot(df.suicides_no)\n",
        "plt.xlabel('suicides no')\n",
        "plt.ylabel('count')\n",
        "plt.title('suicides_no count')\n"
      ]
    },
    {
      "cell_type": "raw",
      "metadata": {
        "id": "MUeoKKAMfFYe"
      },
      "source": [
        "The above graph is the line graph in which show the suicides population in country by using line plot"
      ]
    },
    {
      "cell_type": "markdown",
      "metadata": {
        "id": "SswyYJ_0fFYe"
      },
      "source": [
        "**TODO** - Explore one or more columns by plotting a graph below, and add some explanation about it"
      ]
    },
    {
      "cell_type": "code",
      "execution_count": null,
      "metadata": {
        "id": "4thThHLifFYe",
        "outputId": "ee6b7f8d-a863-4720-9c65-da8777a7ead2"
      },
      "outputs": [
        {
          "name": "stderr",
          "output_type": "stream",
          "text": [
            "/opt/conda/lib/python3.9/site-packages/seaborn/_decorators.py:36: FutureWarning: Pass the following variable as a keyword arg: x. From version 0.12, the only valid positional argument will be `data`, and passing other arguments without an explicit keyword will result in an error or misinterpretation.\n",
            "  warnings.warn(\n"
          ]
        },
        {
          "data": {
            "image/png": "[encoded data removed]",
            "text/plain": [
              "<Figure size 864x432 with 1 Axes>"
            ]
          },
          "metadata": {
            "needs_background": "light"
          },
          "output_type": "display_data"
        }
      ],
      "source": [
        "plt.figure(figsize=(12,6))\n",
        "sns.countplot(suicide_raw_df.sex);\n",
        "plt.xlabel('sex')\n",
        "plt.ylabel('count')\n",
        "plt.title('sex vs count')\n",
        "plt.show()"
      ]
    },
    {
      "cell_type": "raw",
      "metadata": {
        "id": "zB2UJNXPfFYe"
      },
      "source": [
        "The above table show the male and female categories of sex in which count the male and female by using countplot"
      ]
    },
    {
      "cell_type": "code",
      "execution_count": null,
      "metadata": {
        "id": "pZzSGhOxfFYe",
        "outputId": "de7cd0cf-667c-45ab-d97a-1cc0123b180a"
      },
      "outputs": [
        {
          "name": "stderr",
          "output_type": "stream",
          "text": [
            "/opt/conda/lib/python3.9/site-packages/seaborn/_decorators.py:36: FutureWarning: Pass the following variable as a keyword arg: x. From version 0.12, the only valid positional argument will be `data`, and passing other arguments without an explicit keyword will result in an error or misinterpretation.\n",
            "  warnings.warn(\n"
          ]
        },
        {
          "data": {
            "image/png": "[encoded data removed]",
            "text/plain": [
              "<Figure size 864x432 with 1 Axes>"
            ]
          },
          "metadata": {
            "needs_background": "light"
          },
          "output_type": "display_data"
        }
      ],
      "source": [
        "plt.figure(figsize=(12,6))\n",
        "sns.countplot(suicide_raw_df.country);\n",
        "plt.xlabel('country')\n",
        "plt.ylabel('count')\n",
        "plt.title('country vs count')\n",
        "\n",
        "plt.show()"
      ]
    },
    {
      "cell_type": "raw",
      "metadata": {
        "id": "f9EeDlT9fFYf"
      },
      "source": [
        "The above table show the countries in which count the number rows each country by using countplot"
      ]
    },
    {
      "cell_type": "markdown",
      "metadata": {
        "id": "xPDbzxYffFYf"
      },
      "source": [
        "**TODO** - Explore one or more columns by plotting a graph below, and add some explanation about it"
      ]
    },
    {
      "cell_type": "code",
      "execution_count": null,
      "metadata": {
        "id": "lrV3o0iWfFYf",
        "outputId": "a5bce5a0-cf54-4170-a213-5c62be50bfa2"
      },
      "outputs": [
        {
          "data": {
            "text/plain": [
              "Text(0.5, 1.0, 'suicides_no vs count')"
            ]
          },
          "execution_count": 31,
          "metadata": {},
          "output_type": "execute_result"
        },
        {
          "data": {
            "image/png": "[encoded data removed]",
            "text/plain": [
              "<Figure size 648x360 with 1 Axes>"
            ]
          },
          "metadata": {
            "needs_background": "light"
          },
          "output_type": "display_data"
        }
      ],
      "source": [
        "sns.histplot(x=suicide_raw_df.suicides_no, bins=100, kde=True);\n",
        "plt.xlabel('suicides_no')\n",
        "plt.ylabel('count')\n",
        "plt.title('suicides_no vs count')\n"
      ]
    },
    {
      "cell_type": "raw",
      "metadata": {
        "id": "zmbo227_fFYg"
      },
      "source": [
        "In the above graph show the histogram of suicides_no in which count the suicides_no by usig histplot"
      ]
    },
    {
      "cell_type": "code",
      "execution_count": null,
      "metadata": {
        "id": "PJzLAMsqfFYg",
        "outputId": "de112c01-2eb4-45b8-d1ac-f19775193bb7"
      },
      "outputs": [
        {
          "data": {
            "text/plain": [
              "Text(0.5, 1.0, 'year vs count')"
            ]
          },
          "execution_count": 32,
          "metadata": {},
          "output_type": "execute_result"
        },
        {
          "data": {
            "image/png": "[encoded data removed]",
            "text/plain": [
              "<Figure size 648x360 with 1 Axes>"
            ]
          },
          "metadata": {
            "needs_background": "light"
          },
          "output_type": "display_data"
        }
      ],
      "source": [
        "sns.histplot(x=suicide_raw_df.year, bins=10, kde=True);\n",
        "plt.xlabel('year')\n",
        "plt.ylabel('count')\n",
        "plt.title('year vs count')\n"
      ]
    },
    {
      "cell_type": "raw",
      "metadata": {
        "id": "gMqaUM-_fFYg"
      },
      "source": [
        "In the above graph show the histogram of year in which count the year by usig histplot"
      ]
    },
    {
      "cell_type": "markdown",
      "metadata": {
        "id": "VeEseZB-fFYg"
      },
      "source": [
        "Let us save and upload our work to Jovian before continuing"
      ]
    },
    {
      "cell_type": "code",
      "execution_count": null,
      "metadata": {
        "id": "T3sEMe1RfFYh"
      },
      "outputs": [],
      "source": [
        "import jovian"
      ]
    },
    {
      "cell_type": "code",
      "execution_count": null,
      "metadata": {
        "id": "GOm5muYsfFYh",
        "outputId": "1a899543-353f-43db-884e-de00a1cc77e9"
      },
      "outputs": [
        {
          "data": {
            "application/javascript": [
              "window.require && require([\"base/js/namespace\"],function(Jupyter){Jupyter.notebook.save_checkpoint()})"
            ],
            "text/plain": [
              "<IPython.core.display.Javascript object>"
            ]
          },
          "metadata": {},
          "output_type": "display_data"
        },
        {
          "name": "stdout",
          "output_type": "stream",
          "text": [
            "[jovian] Updating notebook \"zeeooma123/suicide-rates-overview-project\" on https://jovian.com\u001b[0m\n",
            "[jovian] Committed successfully! https://jovian.com/zeeooma123/suicide-rates-overview-project\u001b[0m\n"
          ]
        },
        {
          "data": {
            "text/plain": [
              "'https://jovian.com/zeeooma123/suicide-rates-overview-project'"
            ]
          },
          "execution_count": 34,
          "metadata": {},
          "output_type": "execute_result"
        }
      ],
      "source": [
        "jovian.commit()"
      ]
    },
    {
      "cell_type": "markdown",
      "metadata": {
        "id": "5Zad8fFdfFYh"
      },
      "source": [
        "## Asking and Answering Questions\n",
        "\n",
        "In this section we asking the questions and then find the answers of these questions using by graphicaaly or numpy/pandas  \n",
        "\n"
      ]
    },
    {
      "cell_type": "markdown",
      "metadata": {
        "id": "c455f2SDfFYh"
      },
      "source": [
        "#### Q1: TODO - How do you count the number of  rows of the columns of a dataset?"
      ]
    },
    {
      "cell_type": "code",
      "execution_count": null,
      "metadata": {
        "id": "GpMXSzZNfFYi",
        "outputId": "691c21bf-0a18-462c-9015-35595de13848"
      },
      "outputs": [
        {
          "data": {
            "text/plain": [
              "30556"
            ]
          },
          "execution_count": 35,
          "metadata": {},
          "output_type": "execute_result"
        }
      ],
      "source": [
        "suicide_raw_df.country.count()"
      ]
    },
    {
      "cell_type": "code",
      "execution_count": null,
      "metadata": {
        "id": "cBpaMesAfFYi",
        "outputId": "2f4a8135-64f9-48b4-e984-95aa19f0eb5e"
      },
      "outputs": [
        {
          "data": {
            "text/plain": [
              "17599"
            ]
          },
          "execution_count": 36,
          "metadata": {},
          "output_type": "execute_result"
        }
      ],
      "source": [
        "suicide_raw_df.suicides_no[suicide_raw_df.suicides_no >= 15].count()"
      ]
    },
    {
      "cell_type": "code",
      "execution_count": null,
      "metadata": {
        "id": "_TRQC6_nfFYi",
        "outputId": "b9d1171d-209d-4193-9c6e-564fcd721611"
      },
      "outputs": [
        {
          "data": {
            "text/plain": [
              "23438"
            ]
          },
          "execution_count": 37,
          "metadata": {},
          "output_type": "execute_result"
        }
      ],
      "source": [
        "suicide_raw_df.suicides_no[suicide_raw_df.suicides_no <= 150].count()"
      ]
    },
    {
      "cell_type": "code",
      "execution_count": null,
      "metadata": {
        "id": "U6G2-2dFfFYi",
        "outputId": "2383b214-1a60-4f17-b241-33023361060c"
      },
      "outputs": [
        {
          "data": {
            "application/javascript": [
              "window.require && require([\"base/js/namespace\"],function(Jupyter){Jupyter.notebook.save_checkpoint()})"
            ],
            "text/plain": [
              "<IPython.core.display.Javascript object>"
            ]
          },
          "metadata": {},
          "output_type": "display_data"
        },
        {
          "name": "stdout",
          "output_type": "stream",
          "text": [
            "[jovian] Updating notebook \"zeeooma123/suicide-rates-overview-project\" on https://jovian.com\u001b[0m\n",
            "[jovian] Committed successfully! https://jovian.com/zeeooma123/suicide-rates-overview-project\u001b[0m\n"
          ]
        },
        {
          "data": {
            "text/plain": [
              "'https://jovian.com/zeeooma123/suicide-rates-overview-project'"
            ]
          },
          "execution_count": 38,
          "metadata": {},
          "output_type": "execute_result"
        }
      ],
      "source": [
        "jovian.commit()"
      ]
    },
    {
      "cell_type": "markdown",
      "metadata": {
        "id": "aKyygVLIfFYj"
      },
      "source": [
        "#### Q2: TODO - show the barplot of less than 150 suicide_no column of dataset (suicide_raw_df)"
      ]
    },
    {
      "cell_type": "code",
      "execution_count": null,
      "metadata": {
        "id": "hlMNZBSbfFYj"
      },
      "outputs": [],
      "source": [
        "data = suicide_raw_df[suicide_raw_df.suicides_no <= 150]"
      ]
    },
    {
      "cell_type": "code",
      "execution_count": null,
      "metadata": {
        "id": "5mmHsXrRfFYj",
        "outputId": "d6263883-8309-417b-8e5c-d053ea0a46d4"
      },
      "outputs": [
        {
          "data": {
            "text/html": [
              "<div>\n",
              "<style scoped>\n",
              "    .dataframe tbody tr th:only-of-type {\n",
              "        vertical-align: middle;\n",
              "    }\n",
              "\n",
              "    .dataframe tbody tr th {\n",
              "        vertical-align: top;\n",
              "    }\n",
              "\n",
              "    .dataframe thead th {\n",
              "        text-align: right;\n",
              "    }\n",
              "</style>\n",
              "<table border=\"1\" class=\"dataframe\">\n",
              "  <thead>\n",
              "    <tr style=\"text-align: right;\">\n",
              "      <th></th>\n",
              "      <th>country</th>\n",
              "      <th>year</th>\n",
              "      <th>sex</th>\n",
              "      <th>age</th>\n",
              "      <th>suicides_no</th>\n",
              "      <th>population</th>\n",
              "      <th>suicides/100k pop</th>\n",
              "      <th>country-year</th>\n",
              "      <th>HDI for year</th>\n",
              "      <th>gdp_for_year ($)</th>\n",
              "      <th>gdp_per_capita ($)</th>\n",
              "      <th>generation</th>\n",
              "    </tr>\n",
              "  </thead>\n",
              "  <tbody>\n",
              "    <tr>\n",
              "      <th>0</th>\n",
              "      <td>Albania</td>\n",
              "      <td>1987</td>\n",
              "      <td>male</td>\n",
              "      <td>15-24 years</td>\n",
              "      <td>21.0</td>\n",
              "      <td>312900</td>\n",
              "      <td>6.710000</td>\n",
              "      <td>Albania1987</td>\n",
              "      <td>NaN</td>\n",
              "      <td>2,15,66,24,900</td>\n",
              "      <td>796.000000</td>\n",
              "      <td>Generation X</td>\n",
              "    </tr>\n",
              "    <tr>\n",
              "      <th>1</th>\n",
              "      <td>Albania</td>\n",
              "      <td>1987</td>\n",
              "      <td>male</td>\n",
              "      <td>35-54 years</td>\n",
              "      <td>16.0</td>\n",
              "      <td>308000</td>\n",
              "      <td>5.190000</td>\n",
              "      <td>Albania1987</td>\n",
              "      <td>NaN</td>\n",
              "      <td>2,15,66,24,900</td>\n",
              "      <td>796.000000</td>\n",
              "      <td>Silent</td>\n",
              "    </tr>\n",
              "    <tr>\n",
              "      <th>2</th>\n",
              "      <td>Albania</td>\n",
              "      <td>1987</td>\n",
              "      <td>female</td>\n",
              "      <td>15-24 years</td>\n",
              "      <td>14.0</td>\n",
              "      <td>289700</td>\n",
              "      <td>4.830000</td>\n",
              "      <td>Albania1987</td>\n",
              "      <td>NaN</td>\n",
              "      <td>2,15,66,24,900</td>\n",
              "      <td>796.000000</td>\n",
              "      <td>Generation X</td>\n",
              "    </tr>\n",
              "    <tr>\n",
              "      <th>3</th>\n",
              "      <td>Albania</td>\n",
              "      <td>1987</td>\n",
              "      <td>male</td>\n",
              "      <td>75+ years</td>\n",
              "      <td>1.0</td>\n",
              "      <td>21800</td>\n",
              "      <td>4.590000</td>\n",
              "      <td>Albania1987</td>\n",
              "      <td>NaN</td>\n",
              "      <td>2,15,66,24,900</td>\n",
              "      <td>796.000000</td>\n",
              "      <td>G.I. Generation</td>\n",
              "    </tr>\n",
              "    <tr>\n",
              "      <th>4</th>\n",
              "      <td>Albania</td>\n",
              "      <td>1987</td>\n",
              "      <td>male</td>\n",
              "      <td>25-34 years</td>\n",
              "      <td>9.0</td>\n",
              "      <td>274300</td>\n",
              "      <td>3.280000</td>\n",
              "      <td>Albania1987</td>\n",
              "      <td>NaN</td>\n",
              "      <td>2,15,66,24,900</td>\n",
              "      <td>796.000000</td>\n",
              "      <td>Boomers</td>\n",
              "    </tr>\n",
              "    <tr>\n",
              "      <th>...</th>\n",
              "      <td>...</td>\n",
              "      <td>...</td>\n",
              "      <td>...</td>\n",
              "      <td>...</td>\n",
              "      <td>...</td>\n",
              "      <td>...</td>\n",
              "      <td>...</td>\n",
              "      <td>...</td>\n",
              "      <td>...</td>\n",
              "      <td>...</td>\n",
              "      <td>...</td>\n",
              "      <td>...</td>\n",
              "    </tr>\n",
              "    <tr>\n",
              "      <th>31748</th>\n",
              "      <td>Tajikistan</td>\n",
              "      <td>2017</td>\n",
              "      <td>female</td>\n",
              "      <td>75+ years</td>\n",
              "      <td>0.0</td>\n",
              "      <td>8925525</td>\n",
              "      <td>0.000000</td>\n",
              "      <td>Tajikistan2017</td>\n",
              "      <td>0.628268</td>\n",
              "      <td>7536439875</td>\n",
              "      <td>848.672380</td>\n",
              "      <td>G.I. Generation</td>\n",
              "    </tr>\n",
              "    <tr>\n",
              "      <th>31749</th>\n",
              "      <td>Thailand</td>\n",
              "      <td>2017</td>\n",
              "      <td>female</td>\n",
              "      <td>75+ years</td>\n",
              "      <td>59.0</td>\n",
              "      <td>70898202</td>\n",
              "      <td>0.083218</td>\n",
              "      <td>Thailand2017</td>\n",
              "      <td>0.787437</td>\n",
              "      <td>4.56E+11</td>\n",
              "      <td>6593.818352</td>\n",
              "      <td>G.I. Generation</td>\n",
              "    </tr>\n",
              "    <tr>\n",
              "      <th>31752</th>\n",
              "      <td>United Kingdom</td>\n",
              "      <td>2017</td>\n",
              "      <td>female</td>\n",
              "      <td>75+ years</td>\n",
              "      <td>104.0</td>\n",
              "      <td>66058859</td>\n",
              "      <td>0.157435</td>\n",
              "      <td>United Kingdom2017</td>\n",
              "      <td>0.914735</td>\n",
              "      <td>2.70E+12</td>\n",
              "      <td>40857.755580</td>\n",
              "      <td>G.I. Generation</td>\n",
              "    </tr>\n",
              "    <tr>\n",
              "      <th>31754</th>\n",
              "      <td>Uruguay</td>\n",
              "      <td>2017</td>\n",
              "      <td>female</td>\n",
              "      <td>75+ years</td>\n",
              "      <td>14.0</td>\n",
              "      <td>3422200</td>\n",
              "      <td>0.409094</td>\n",
              "      <td>Uruguay2017</td>\n",
              "      <td>0.816745</td>\n",
              "      <td>64233966861</td>\n",
              "      <td>18690.893840</td>\n",
              "      <td>G.I. Generation</td>\n",
              "    </tr>\n",
              "    <tr>\n",
              "      <th>31755</th>\n",
              "      <td>Uzbekistan</td>\n",
              "      <td>2017</td>\n",
              "      <td>female</td>\n",
              "      <td>75+ years</td>\n",
              "      <td>3.0</td>\n",
              "      <td>32388600</td>\n",
              "      <td>0.009263</td>\n",
              "      <td>Uzbekistan2017</td>\n",
              "      <td>0.691258</td>\n",
              "      <td>62081323299</td>\n",
              "      <td>1916.764642</td>\n",
              "      <td>G.I. Generation</td>\n",
              "    </tr>\n",
              "  </tbody>\n",
              "</table>\n",
              "<p>23438 rows × 12 columns</p>\n",
              "</div>"
            ],
            "text/plain": [
              "              country  year     sex          age  suicides_no  population  \\\n",
              "0             Albania  1987    male  15-24 years         21.0      312900   \n",
              "1             Albania  1987    male  35-54 years         16.0      308000   \n",
              "2             Albania  1987  female  15-24 years         14.0      289700   \n",
              "3             Albania  1987    male    75+ years          1.0       21800   \n",
              "4             Albania  1987    male  25-34 years          9.0      274300   \n",
              "...               ...   ...     ...          ...          ...         ...   \n",
              "31748      Tajikistan  2017  female    75+ years          0.0     8925525   \n",
              "31749        Thailand  2017  female    75+ years         59.0    70898202   \n",
              "31752  United Kingdom  2017  female    75+ years        104.0    66058859   \n",
              "31754         Uruguay  2017  female    75+ years         14.0     3422200   \n",
              "31755      Uzbekistan  2017  female    75+ years          3.0    32388600   \n",
              "\n",
              "       suicides/100k pop        country-year  HDI for year  gdp_for_year ($)   \\\n",
              "0               6.710000         Albania1987           NaN     2,15,66,24,900   \n",
              "1               5.190000         Albania1987           NaN     2,15,66,24,900   \n",
              "2               4.830000         Albania1987           NaN     2,15,66,24,900   \n",
              "3               4.590000         Albania1987           NaN     2,15,66,24,900   \n",
              "4               3.280000         Albania1987           NaN     2,15,66,24,900   \n",
              "...                  ...                 ...           ...                ...   \n",
              "31748           0.000000      Tajikistan2017      0.628268         7536439875   \n",
              "31749           0.083218        Thailand2017      0.787437           4.56E+11   \n",
              "31752           0.157435  United Kingdom2017      0.914735           2.70E+12   \n",
              "31754           0.409094         Uruguay2017      0.816745        64233966861   \n",
              "31755           0.009263      Uzbekistan2017      0.691258        62081323299   \n",
              "\n",
              "       gdp_per_capita ($)       generation  \n",
              "0              796.000000     Generation X  \n",
              "1              796.000000           Silent  \n",
              "2              796.000000     Generation X  \n",
              "3              796.000000  G.I. Generation  \n",
              "4              796.000000          Boomers  \n",
              "...                   ...              ...  \n",
              "31748          848.672380  G.I. Generation  \n",
              "31749         6593.818352  G.I. Generation  \n",
              "31752        40857.755580  G.I. Generation  \n",
              "31754        18690.893840  G.I. Generation  \n",
              "31755         1916.764642  G.I. Generation  \n",
              "\n",
              "[23438 rows x 12 columns]"
            ]
          },
          "execution_count": 40,
          "metadata": {},
          "output_type": "execute_result"
        }
      ],
      "source": [
        "data"
      ]
    },
    {
      "cell_type": "code",
      "execution_count": null,
      "metadata": {
        "id": "lfL6cpdHfFYj",
        "outputId": "133f3fa6-4a62-43f5-d520-b7e29bd718cd"
      },
      "outputs": [
        {
          "name": "stderr",
          "output_type": "stream",
          "text": [
            "/opt/conda/lib/python3.9/site-packages/seaborn/_decorators.py:36: FutureWarning: Pass the following variables as keyword args: x, y. From version 0.12, the only valid positional argument will be `data`, and passing other arguments without an explicit keyword will result in an error or misinterpretation.\n",
            "  warnings.warn(\n"
          ]
        },
        {
          "data": {
            "image/png": "[encoded data removed]",
            "text/plain": [
              "<Figure size 648x360 with 1 Axes>"
            ]
          },
          "metadata": {
            "needs_background": "light"
          },
          "output_type": "display_data"
        }
      ],
      "source": [
        "sns.barplot(data.sex, data.suicides_no)\n",
        "plt.show()"
      ]
    },
    {
      "cell_type": "markdown",
      "metadata": {
        "id": "B4-QOQqrfFYj"
      },
      "source": [
        "#### Q3: sow the top 10 high population in the data set ?"
      ]
    },
    {
      "cell_type": "code",
      "execution_count": null,
      "metadata": {
        "id": "WDmSjLRBfFYk"
      },
      "outputs": [],
      "source": [
        "sorted_data = suicide_raw_df.sort_values('population', ascending=False)"
      ]
    },
    {
      "cell_type": "code",
      "execution_count": null,
      "metadata": {
        "id": "nD-Nv_JVfFYk"
      },
      "outputs": [],
      "source": [
        "top_high_population  = sorted_data.head(10)"
      ]
    },
    {
      "cell_type": "code",
      "execution_count": null,
      "metadata": {
        "id": "dBTUXvzKfFYk",
        "outputId": "6958b579-6e25-4151-aab0-c2eac4b89416"
      },
      "outputs": [
        {
          "data": {
            "text/html": [
              "<div>\n",
              "<style scoped>\n",
              "    .dataframe tbody tr th:only-of-type {\n",
              "        vertical-align: middle;\n",
              "    }\n",
              "\n",
              "    .dataframe tbody tr th {\n",
              "        vertical-align: top;\n",
              "    }\n",
              "\n",
              "    .dataframe thead th {\n",
              "        text-align: right;\n",
              "    }\n",
              "</style>\n",
              "<table border=\"1\" class=\"dataframe\">\n",
              "  <thead>\n",
              "    <tr style=\"text-align: right;\">\n",
              "      <th></th>\n",
              "      <th>country</th>\n",
              "      <th>year</th>\n",
              "      <th>sex</th>\n",
              "      <th>age</th>\n",
              "      <th>suicides_no</th>\n",
              "      <th>population</th>\n",
              "      <th>suicides/100k pop</th>\n",
              "      <th>country-year</th>\n",
              "      <th>HDI for year</th>\n",
              "      <th>gdp_for_year ($)</th>\n",
              "      <th>gdp_per_capita ($)</th>\n",
              "      <th>generation</th>\n",
              "    </tr>\n",
              "  </thead>\n",
              "  <tbody>\n",
              "    <tr>\n",
              "      <th>28078</th>\n",
              "      <td>China, Hong Kong SAR</td>\n",
              "      <td>2017</td>\n",
              "      <td>male</td>\n",
              "      <td>5-14 years</td>\n",
              "      <td>3.0</td>\n",
              "      <td>1396215000</td>\n",
              "      <td>0.000215</td>\n",
              "      <td>China, Hong Kong SAR2017</td>\n",
              "      <td>0.927732</td>\n",
              "      <td>1.23E+13</td>\n",
              "      <td>8816.986905</td>\n",
              "      <td>Generation X</td>\n",
              "    </tr>\n",
              "    <tr>\n",
              "      <th>28734</th>\n",
              "      <td>China, Hong Kong SAR</td>\n",
              "      <td>2017</td>\n",
              "      <td>male</td>\n",
              "      <td>25-34 years</td>\n",
              "      <td>62.0</td>\n",
              "      <td>1396215000</td>\n",
              "      <td>0.004441</td>\n",
              "      <td>China, Hong Kong SAR2017</td>\n",
              "      <td>0.927732</td>\n",
              "      <td>1.23E+13</td>\n",
              "      <td>8816.986905</td>\n",
              "      <td>Boomers</td>\n",
              "    </tr>\n",
              "    <tr>\n",
              "      <th>29390</th>\n",
              "      <td>China, Hong Kong SAR</td>\n",
              "      <td>2017</td>\n",
              "      <td>male</td>\n",
              "      <td>55-74 years</td>\n",
              "      <td>165.0</td>\n",
              "      <td>1396215000</td>\n",
              "      <td>0.011818</td>\n",
              "      <td>China, Hong Kong SAR2017</td>\n",
              "      <td>0.927732</td>\n",
              "      <td>1.23E+13</td>\n",
              "      <td>8816.986905</td>\n",
              "      <td>G.I. Generation</td>\n",
              "    </tr>\n",
              "    <tr>\n",
              "      <th>31358</th>\n",
              "      <td>China, Hong Kong SAR</td>\n",
              "      <td>2017</td>\n",
              "      <td>female</td>\n",
              "      <td>55-74 years</td>\n",
              "      <td>87.0</td>\n",
              "      <td>1396215000</td>\n",
              "      <td>0.006231</td>\n",
              "      <td>China, Hong Kong SAR2017</td>\n",
              "      <td>0.918620</td>\n",
              "      <td>1.23E+13</td>\n",
              "      <td>8816.986905</td>\n",
              "      <td>G.I. Generation</td>\n",
              "    </tr>\n",
              "    <tr>\n",
              "      <th>31686</th>\n",
              "      <td>China, Hong Kong SAR</td>\n",
              "      <td>2017</td>\n",
              "      <td>female</td>\n",
              "      <td>75+ years</td>\n",
              "      <td>56.0</td>\n",
              "      <td>1396215000</td>\n",
              "      <td>0.004011</td>\n",
              "      <td>China, Hong Kong SAR2017</td>\n",
              "      <td>0.918620</td>\n",
              "      <td>1.23E+13</td>\n",
              "      <td>8816.986905</td>\n",
              "      <td>G.I. Generation</td>\n",
              "    </tr>\n",
              "    <tr>\n",
              "      <th>30702</th>\n",
              "      <td>China, Hong Kong SAR</td>\n",
              "      <td>2017</td>\n",
              "      <td>female</td>\n",
              "      <td>25-34 years</td>\n",
              "      <td>48.0</td>\n",
              "      <td>1396215000</td>\n",
              "      <td>0.003438</td>\n",
              "      <td>China, Hong Kong SAR2017</td>\n",
              "      <td>0.918620</td>\n",
              "      <td>1.23E+13</td>\n",
              "      <td>8816.986905</td>\n",
              "      <td>Boomers</td>\n",
              "    </tr>\n",
              "    <tr>\n",
              "      <th>28406</th>\n",
              "      <td>China, Hong Kong SAR</td>\n",
              "      <td>2017</td>\n",
              "      <td>male</td>\n",
              "      <td>15-24 years</td>\n",
              "      <td>54.0</td>\n",
              "      <td>1396215000</td>\n",
              "      <td>0.003868</td>\n",
              "      <td>China, Hong Kong SAR2017</td>\n",
              "      <td>0.927732</td>\n",
              "      <td>1.23E+13</td>\n",
              "      <td>8816.986905</td>\n",
              "      <td>Generation X</td>\n",
              "    </tr>\n",
              "    <tr>\n",
              "      <th>29062</th>\n",
              "      <td>China, Hong Kong SAR</td>\n",
              "      <td>2017</td>\n",
              "      <td>male</td>\n",
              "      <td>35-54 years</td>\n",
              "      <td>148.0</td>\n",
              "      <td>1396215000</td>\n",
              "      <td>0.010600</td>\n",
              "      <td>China, Hong Kong SAR2017</td>\n",
              "      <td>0.927732</td>\n",
              "      <td>1.23E+13</td>\n",
              "      <td>8816.986905</td>\n",
              "      <td>Silent</td>\n",
              "    </tr>\n",
              "    <tr>\n",
              "      <th>30046</th>\n",
              "      <td>China, Hong Kong SAR</td>\n",
              "      <td>2017</td>\n",
              "      <td>female</td>\n",
              "      <td>5-14 years</td>\n",
              "      <td>2.0</td>\n",
              "      <td>1396215000</td>\n",
              "      <td>0.000143</td>\n",
              "      <td>China, Hong Kong SAR2017</td>\n",
              "      <td>0.918620</td>\n",
              "      <td>1.23E+13</td>\n",
              "      <td>8816.986905</td>\n",
              "      <td>Generation X</td>\n",
              "    </tr>\n",
              "    <tr>\n",
              "      <th>30374</th>\n",
              "      <td>China, Hong Kong SAR</td>\n",
              "      <td>2017</td>\n",
              "      <td>female</td>\n",
              "      <td>15-24 years</td>\n",
              "      <td>21.0</td>\n",
              "      <td>1396215000</td>\n",
              "      <td>0.001504</td>\n",
              "      <td>China, Hong Kong SAR2017</td>\n",
              "      <td>0.918620</td>\n",
              "      <td>1.23E+13</td>\n",
              "      <td>8816.986905</td>\n",
              "      <td>Generation X</td>\n",
              "    </tr>\n",
              "  </tbody>\n",
              "</table>\n",
              "</div>"
            ],
            "text/plain": [
              "                    country  year     sex          age  suicides_no  \\\n",
              "28078  China, Hong Kong SAR  2017    male   5-14 years          3.0   \n",
              "28734  China, Hong Kong SAR  2017    male  25-34 years         62.0   \n",
              "29390  China, Hong Kong SAR  2017    male  55-74 years        165.0   \n",
              "31358  China, Hong Kong SAR  2017  female  55-74 years         87.0   \n",
              "31686  China, Hong Kong SAR  2017  female    75+ years         56.0   \n",
              "30702  China, Hong Kong SAR  2017  female  25-34 years         48.0   \n",
              "28406  China, Hong Kong SAR  2017    male  15-24 years         54.0   \n",
              "29062  China, Hong Kong SAR  2017    male  35-54 years        148.0   \n",
              "30046  China, Hong Kong SAR  2017  female   5-14 years          2.0   \n",
              "30374  China, Hong Kong SAR  2017  female  15-24 years         21.0   \n",
              "\n",
              "       population  suicides/100k pop              country-year  HDI for year  \\\n",
              "28078  1396215000           0.000215  China, Hong Kong SAR2017      0.927732   \n",
              "28734  1396215000           0.004441  China, Hong Kong SAR2017      0.927732   \n",
              "29390  1396215000           0.011818  China, Hong Kong SAR2017      0.927732   \n",
              "31358  1396215000           0.006231  China, Hong Kong SAR2017      0.918620   \n",
              "31686  1396215000           0.004011  China, Hong Kong SAR2017      0.918620   \n",
              "30702  1396215000           0.003438  China, Hong Kong SAR2017      0.918620   \n",
              "28406  1396215000           0.003868  China, Hong Kong SAR2017      0.927732   \n",
              "29062  1396215000           0.010600  China, Hong Kong SAR2017      0.927732   \n",
              "30046  1396215000           0.000143  China, Hong Kong SAR2017      0.918620   \n",
              "30374  1396215000           0.001504  China, Hong Kong SAR2017      0.918620   \n",
              "\n",
              "       gdp_for_year ($)   gdp_per_capita ($)       generation  \n",
              "28078           1.23E+13         8816.986905     Generation X  \n",
              "28734           1.23E+13         8816.986905          Boomers  \n",
              "29390           1.23E+13         8816.986905  G.I. Generation  \n",
              "31358           1.23E+13         8816.986905  G.I. Generation  \n",
              "31686           1.23E+13         8816.986905  G.I. Generation  \n",
              "30702           1.23E+13         8816.986905          Boomers  \n",
              "28406           1.23E+13         8816.986905     Generation X  \n",
              "29062           1.23E+13         8816.986905           Silent  \n",
              "30046           1.23E+13         8816.986905     Generation X  \n",
              "30374           1.23E+13         8816.986905     Generation X  "
            ]
          },
          "execution_count": 44,
          "metadata": {},
          "output_type": "execute_result"
        }
      ],
      "source": [
        "top_high_population"
      ]
    },
    {
      "cell_type": "markdown",
      "metadata": {
        "id": "ZdImy7EEfFYk"
      },
      "source": [
        "#### Q4: TODO - sow the barplot graph of top 10 rows between sex and population in the data set ?"
      ]
    },
    {
      "cell_type": "code",
      "execution_count": null,
      "metadata": {
        "id": "WQ8YA94HfFYl"
      },
      "outputs": [],
      "source": [
        "population_data = suicide_raw_df[['sex','population']]"
      ]
    },
    {
      "cell_type": "code",
      "execution_count": null,
      "metadata": {
        "id": "0S9WITHifFYl"
      },
      "outputs": [],
      "source": [
        "x = population_data.head(10)"
      ]
    },
    {
      "cell_type": "code",
      "execution_count": null,
      "metadata": {
        "id": "sx70leHcfFYl",
        "outputId": "7dfd40fd-9a89-46ab-9113-6a0384d8645a"
      },
      "outputs": [
        {
          "data": {
            "image/png": "[encoded data removed]",
            "text/plain": [
              "<Figure size 1440x720 with 1 Axes>"
            ]
          },
          "metadata": {
            "needs_background": "light"
          },
          "output_type": "display_data"
        }
      ],
      "source": [
        "plt.figure(figsize=(20,10))\n",
        "sns.barplot(x = x.sex, y = x.population);\n",
        "plt.show()"
      ]
    },
    {
      "cell_type": "markdown",
      "metadata": {
        "id": "HlITN6BrfFYm"
      },
      "source": [
        "#### Q5: find the sum of population of the all countries's population in the dataset?"
      ]
    },
    {
      "cell_type": "code",
      "execution_count": null,
      "metadata": {
        "id": "brQHuZ7cfFYm"
      },
      "outputs": [],
      "source": [
        "population_df = suicide_raw_df.population"
      ]
    },
    {
      "cell_type": "code",
      "execution_count": null,
      "metadata": {
        "id": "JIwoPApRfFYn"
      },
      "outputs": [],
      "source": [
        "sum_of_pppulation = population_df.sum()"
      ]
    },
    {
      "cell_type": "code",
      "execution_count": null,
      "metadata": {
        "id": "UX4P6TRlfFYn",
        "outputId": "0cfaac35-b26c-4a94-8239-a8c6ebbbc30c"
      },
      "outputs": [
        {
          "data": {
            "text/plain": [
              "152489480296"
            ]
          },
          "execution_count": 50,
          "metadata": {},
          "output_type": "execute_result"
        }
      ],
      "source": [
        "sum_of_pppulation"
      ]
    },
    {
      "cell_type": "markdown",
      "metadata": {
        "id": "NIGAwUMdfFYn"
      },
      "source": [
        "Let us save and upload our work to Jovian before continuing."
      ]
    },
    {
      "cell_type": "code",
      "execution_count": null,
      "metadata": {
        "id": "EotWdmL9fFYn"
      },
      "outputs": [],
      "source": [
        "import jovian"
      ]
    },
    {
      "cell_type": "code",
      "execution_count": null,
      "metadata": {
        "id": "wa2ZeQNmfFYo",
        "outputId": "7024e210-7fbb-4b0e-82a1-e4528775596c"
      },
      "outputs": [
        {
          "data": {
            "application/javascript": [
              "window.require && require([\"base/js/namespace\"],function(Jupyter){Jupyter.notebook.save_checkpoint()})"
            ],
            "text/plain": [
              "<IPython.core.display.Javascript object>"
            ]
          },
          "metadata": {},
          "output_type": "display_data"
        },
        {
          "name": "stdout",
          "output_type": "stream",
          "text": [
            "[jovian] Updating notebook \"zeeooma123/suicide-rates-overview-project\" on https://jovian.com\u001b[0m\n",
            "[jovian] Committed successfully! https://jovian.com/zeeooma123/suicide-rates-overview-project\u001b[0m\n"
          ]
        },
        {
          "data": {
            "text/plain": [
              "'https://jovian.com/zeeooma123/suicide-rates-overview-project'"
            ]
          },
          "execution_count": 52,
          "metadata": {},
          "output_type": "execute_result"
        }
      ],
      "source": [
        "jovian.commit()"
      ]
    },
    {
      "cell_type": "markdown",
      "metadata": {
        "id": "fdO71e4FfFYo"
      },
      "source": [
        "## Inferences and Conclusion\n",
        "\n",
        "From what we have analyze we found that:\n",
        "- We shall be downloading a dataset from Kaggle to carry out an analysis Suicide Rates Overview (1985 to 2021).\n",
        "- Data Preparation and Cleaning in which we find cleang data in data frame\n",
        "- In Exploratory Analysis and Visualizatio process we show the data graphically by using bargraph, lineplot, scatter etc.., now   here we diffrent type of graph to be used to represent the datase\n",
        "- How do you count the number of rows of the columns of a dataset?\n",
        "- show the barplot of less than 150 suicide_no column of dataset (suicide_raw_df)\n",
        "- sow the top 10 high population in the data set\n",
        "- sow the barplot graph of top 10 rows between sex and population in the data set\n",
        "- find the sum of population of the all countries's population in the dataset"
      ]
    },
    {
      "cell_type": "code",
      "execution_count": null,
      "metadata": {
        "id": "lyPz8b6FfFYo"
      },
      "outputs": [],
      "source": [
        "import jovian"
      ]
    },
    {
      "cell_type": "code",
      "execution_count": null,
      "metadata": {
        "scrolled": true,
        "id": "3Cfgqe1yfFYo",
        "outputId": "999ac416-b1e6-4704-d988-88cb923639e4"
      },
      "outputs": [
        {
          "data": {
            "application/javascript": [
              "window.require && require([\"base/js/namespace\"],function(Jupyter){Jupyter.notebook.save_checkpoint()})"
            ],
            "text/plain": [
              "<IPython.core.display.Javascript object>"
            ]
          },
          "metadata": {},
          "output_type": "display_data"
        },
        {
          "name": "stdout",
          "output_type": "stream",
          "text": [
            "[jovian] Updating notebook \"zeeooma123/suicide-rates-overview-project\" on https://jovian.com\u001b[0m\n",
            "[jovian] Committed successfully! https://jovian.com/zeeooma123/suicide-rates-overview-project\u001b[0m\n"
          ]
        },
        {
          "data": {
            "text/plain": [
              "'https://jovian.com/zeeooma123/suicide-rates-overview-project'"
            ]
          },
          "execution_count": 54,
          "metadata": {},
          "output_type": "execute_result"
        }
      ],
      "source": [
        "jovian.commit()"
      ]
    },
    {
      "cell_type": "markdown",
      "metadata": {
        "id": "9sTZydXPfFYp"
      },
      "source": [
        "## References and Future Work\n",
        "\n",
        "United Nations Development Program. (2018). Human development index (HDI). Retrieved from http://hdr.undp.org/en/indicators/137506\n",
        "\n",
        "World Bank. (2018). World development indicators: GDP (current US$) by country:1985 to 2016. Retrieved from http://databank.worldbank.org/data/source/world-development-indicators#\n",
        "\n",
        "[Szamil]. (2017). Suicide in the Twenty-First Century [dataset]. Retrieved from https://www.kaggle.com/szamil/suicide-in-the-twenty-first-century/notebook\n",
        "\n",
        "World Health Organization. (2018). Suicide prevention. Retrieved from http://www.who.int/mental_health/suicide-prevention/en/\n"
      ]
    },
    {
      "cell_type": "code",
      "execution_count": null,
      "metadata": {
        "id": "Bv4Wv9GffFYp"
      },
      "outputs": [],
      "source": [
        "import jovian"
      ]
    },
    {
      "cell_type": "code",
      "execution_count": null,
      "metadata": {
        "scrolled": true,
        "id": "kV6GhfJhfFYp",
        "outputId": "0b33b65e-2364-440c-b3fb-f804c3e8987e"
      },
      "outputs": [
        {
          "data": {
            "application/javascript": [
              "window.require && require([\"base/js/namespace\"],function(Jupyter){Jupyter.notebook.save_checkpoint()})"
            ],
            "text/plain": [
              "<IPython.core.display.Javascript object>"
            ]
          },
          "metadata": {},
          "output_type": "display_data"
        }
      ],
      "source": [
        "jovian.commit()"
      ]
    },
    {
      "cell_type": "code",
      "execution_count": null,
      "metadata": {
        "id": "DYupjmcMfFYq"
      },
      "outputs": [],
      "source": []
    }
  ],
  "metadata": {
    "kernelspec": {
      "display_name": "Python 3 (ipykernel)",
      "language": "python",
      "name": "python3"
    },
    "language_info": {
      "codemirror_mode": {
        "name": "ipython",
        "version": 3
      },
      "file_extension": ".py",
      "mimetype": "text/x-python",
      "name": "python",
      "nbconvert_exporter": "python",
      "pygments_lexer": "ipython3",
      "version": "3.9.7"
    },
    "colab": {
      "provenance": [],
      "include_colab_link": true
    }
  },
  "nbformat": 4,
  "nbformat_minor": 0
}